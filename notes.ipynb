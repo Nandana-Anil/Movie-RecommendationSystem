{
 "cells": [
  {
   "cell_type": "code",
   "execution_count": null,
   "metadata": {
    "vscode": {
     "languageId": "plaintext"
    }
   },
   "outputs": [],
   "source": [
    "Types of Recommender Systems:\n",
    " -Content-Based -> based on content u like\n",
    " -Collaborative Filtering -> based on similar users' interests\n",
    " -Hybrid\n",
    "\n",
    "This is a **Content-Based** Movie Recommendation System"
   ]
  },
  {
   "cell_type": "code",
   "execution_count": null,
   "metadata": {
    "vscode": {
     "languageId": "plaintext"
    }
   },
   "outputs": [],
   "source": [
    "__Project Flow__\n",
    "\n",
    "Data -> Preprocessing -> Model Building"
   ]
  },
  {
   "cell_type": "code",
   "execution_count": null,
   "metadata": {
    "vscode": {
     "languageId": "plaintext"
    }
   },
   "outputs": [],
   "source": [
    "__Vectorization__\n",
    "\n",
    "-converting tags into vectors\n",
    "-the most similar tags will be the ones that are close together\n",
    "\n",
    "Text vectorization Techniques:\n",
    "- Bag of words\n",
    "- tfidf\n",
    "- word2vec"
   ]
  },
  {
   "cell_type": "code",
   "execution_count": null,
   "metadata": {
    "vscode": {
     "languageId": "plaintext"
    }
   },
   "outputs": [],
   "source": [
    "__Bag of words__\n",
    "\n",
    "Bag of Words (BoW) is a text representation technique used in Natural Language Processing (NLP) and Information Retrieval. It converts text data into numerical form by:\n",
    "\n",
    "- Ignoring word order and grammar.\n",
    "- Counting word occurrences in a document.\n",
    "\n",
    "How Bag of Words Works:\n",
    "\n",
    "- A vocabulary (set of unique words) is created from all documents.\n",
    "- Each document is represented as a vector of word frequencies.\n",
    "\n",
    "\n",
    "Movie\taction-packed\tadventure\theroes\tromantic\tcomedy\tfunny\tmoments\n",
    "Movie A\t    1\t            1\t      1\t        0\t      0\t      0\t       0\n",
    "Movie B\t    0\t            0\t      0\t        1\t      1\t      1\t       1\n",
    "\n",
    "✅ Advantages\n",
    "✔ Simple and easy to implement\n",
    "✔ Effective for small datasets\n",
    "✔ Works well with additional feature engineering\n",
    "\n",
    "❌ Disadvantages\n",
    "✖ Ignores word order and meaning\n",
    "✖ Increases dimensionality with large vocabularies\n",
    "✖ Treats common and rare words equally (can be solved with TF-IDF)"
   ]
  }
 ],
 "metadata": {
  "language_info": {
   "name": "python"
  }
 },
 "nbformat": 4,
 "nbformat_minor": 2
}
